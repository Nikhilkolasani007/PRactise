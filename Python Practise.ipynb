{
 "cells": [
  {
   "cell_type": "code",
   "execution_count": 1,
   "id": "6be3b6d5-4c73-4220-8d9f-83a820af1be6",
   "metadata": {},
   "outputs": [
    {
     "name": "stdin",
     "output_type": "stream",
     "text": [
      "Enter the English Marks:  30\n",
      "Enter the Sanskrit Marks:  50\n",
      "Enter the Mathematics Marks:  60\n",
      "Enter the Physics Marks:  80\n",
      "Enter the CS Marks:  78\n"
     ]
    },
    {
     "name": "stdout",
     "output_type": "stream",
     "text": [
      "Fail\n"
     ]
    }
   ],
   "source": [
    "a = int(input(\"Enter the English Marks: \"))\n",
    "b = int(input(\"Enter the Sanskrit Marks: \"))\n",
    "c = int(input(\"Enter the Mathematics Marks: \"))\n",
    "d = int(input(\"Enter the Physics Marks: \"))\n",
    "e = int(input(\"Enter the CS Marks: \"))\n",
    "\n",
    "# Check if all marks are greater than or equal to 35\n",
    "if a >= 35 and b >= 35 and c >= 35 and d >= 35 and e >= 35:\n",
    "    print(\"Pass\")\n",
    "else:\n",
    "    print(\"Fail\")\n"
   ]
  },
  {
   "cell_type": "code",
   "execution_count": null,
   "id": "39da573d-1e54-48ec-b293-72a3f0cd4f63",
   "metadata": {},
   "outputs": [],
   "source": [
    "a = str(input(\"Enter your name: \"))\n",
    "print(a)\n",
    "a.replace(\"Nikhil\",\"Kolasani\")"
   ]
  },
  {
   "cell_type": "code",
   "execution_count": 10,
   "id": "0c2757c2-72ef-44dc-8043-a2a4e9c55b5d",
   "metadata": {},
   "outputs": [
    {
     "name": "stdin",
     "output_type": "stream",
     "text": [
      "Enter your name:  nikhil\n"
     ]
    },
    {
     "name": "stdout",
     "output_type": "stream",
     "text": [
      "nikhil\n"
     ]
    },
    {
     "data": {
      "text/plain": [
       "'Nikhil'"
      ]
     },
     "execution_count": 10,
     "metadata": {},
     "output_type": "execute_result"
    }
   ],
   "source": [
    "a = str(input(\"Enter your name: \"))\n",
    "print(a)\n",
    "a.capitalize()"
   ]
  },
  {
   "cell_type": "code",
   "execution_count": 7,
   "id": "8ab22a4b-091a-432d-a55f-8fe4951db8d3",
   "metadata": {},
   "outputs": [
    {
     "name": "stdin",
     "output_type": "stream",
     "text": [
      "Enter your name:  NIKHIL KOLASANI\n"
     ]
    },
    {
     "name": "stdout",
     "output_type": "stream",
     "text": [
      "Verified Unsucessful\n"
     ]
    }
   ],
   "source": [
    "a = str(input(\"Enter your name: \"))\n",
    "b = \"NIKHIL KOLASANI\"\n",
    "if ( b.endswith(\"NI\") == a ):\n",
    "    print(\"Verified Sucessfully\")\n",
    "else:\n",
    "    print(\"Verified Unsucessful\")"
   ]
  },
  {
   "cell_type": "code",
   "execution_count": 6,
   "id": "2e682a17-8998-4531-907b-7420c428236c",
   "metadata": {},
   "outputs": [
    {
     "name": "stdin",
     "output_type": "stream",
     "text": [
      "Enter your name:  NIKHIL\n"
     ]
    },
    {
     "name": "stdout",
     "output_type": "stream",
     "text": [
      "Verified Sucessfully\n"
     ]
    }
   ],
   "source": [
    "#String \n",
    "a = str(input(\"Enter your name: \"))\n",
    "b = \"NIKHIL KOLASANI\"\n",
    "if (a[5] == b[5]):\n",
    "    print(\"Verified Sucessfully\")\n",
    "else:\n",
    "    print(\"Verified Unsucessful\")"
   ]
  },
  {
   "cell_type": "code",
   "execution_count": 13,
   "id": "e8c94256-d8c3-4370-a393-7eeabc2378c9",
   "metadata": {},
   "outputs": [
    {
     "name": "stdin",
     "output_type": "stream",
     "text": [
      "Enter Your First Name :  NIKHIL\n",
      "Enter Your Last Name :  KOLASANI\n"
     ]
    },
    {
     "name": "stdout",
     "output_type": "stream",
     "text": [
      "Your Full Name is NIKHIL KOLASANI\n",
      "You have entered a Valid characters\n"
     ]
    }
   ],
   "source": [
    "First_name = str(input(\"Enter Your First Name : \"))\n",
    "Last_name = str(input(\"Enter Your Last Name : \"))\n",
    "Full_Name = (First_name + \" \" + Last_name)\n",
    "print(\"Your Full Name is \"+Full_Name)\n",
    "\n",
    "if (len(Full_Name) <= 30 ):\n",
    "    print(\"You have entered a Valid characters\")\n",
    "elif (len(Full_Name) > 30):\n",
    "    print(\"The Value you have Entered Not Exceed\")\n",
    "else:\n",
    "    print(\"Error on the Server Side - We Get Back to You Soon!\")"
   ]
  },
  {
   "cell_type": "code",
   "execution_count": null,
   "id": "0d4a122f-7100-4875-b41c-d0dd580de4af",
   "metadata": {},
   "outputs": [],
   "source": [
    "a = int(input(\"Enter value for a: \"))\n",
    "b = int(input(\"Enter value for b: \"))\n",
    "c = int(input(\"Enter value for c: \"))\n",
    "d = int(input(\"Enter value for d: \"))\n",
    "e = a + b + c + d\n",
    "\n",
    "if (e <= 500):\n",
    "    print(\"Pass\")\n",
    "else:\n",
    "    print(\"Fail\")\n"
   ]
  },
  {
   "cell_type": "code",
   "execution_count": null,
   "id": "10631eda-7d59-4aa0-9745-9289802e0907",
   "metadata": {},
   "outputs": [],
   "source": []
  }
 ],
 "metadata": {
  "kernelspec": {
   "display_name": "Python 3 (ipykernel)",
   "language": "python",
   "name": "python3"
  },
  "language_info": {
   "codemirror_mode": {
    "name": "ipython",
    "version": 3
   },
   "file_extension": ".py",
   "mimetype": "text/x-python",
   "name": "python",
   "nbconvert_exporter": "python",
   "pygments_lexer": "ipython3",
   "version": "3.12.3"
  }
 },
 "nbformat": 4,
 "nbformat_minor": 5
}
