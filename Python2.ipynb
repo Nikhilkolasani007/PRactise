{
 "cells": [
  {
   "cell_type": "code",
   "execution_count": null,
   "id": "42ba4cfe-83d9-47ac-9d4d-97875c10e4d9",
   "metadata": {},
   "outputs": [],
   "source": []
  },
  {
   "cell_type": "code",
   "execution_count": 37,
   "id": "adc14967-8cb1-4002-93a7-902463d6c575",
   "metadata": {},
   "outputs": [
    {
     "name": "stdout",
     "output_type": "stream",
     "text": [
      "[10, 9, 8, 7, 5, 4, 3, 3, 2, 1]\n"
     ]
    }
   ],
   "source": [
    "a = [1,2,3,4,5,3,7,8,9,10]\n",
    "a.sort (reverse = True)\n",
    "print(a)"
   ]
  },
  {
   "cell_type": "code",
   "execution_count": 42,
   "id": "cc95d9fd-f7d7-448d-85b7-e172a02cff92",
   "metadata": {},
   "outputs": [
    {
     "name": "stdout",
     "output_type": "stream",
     "text": [
      "2\n",
      "[1, 2]\n"
     ]
    }
   ],
   "source": [
    "a = [1,2]\n",
    "b = a[0] + 1\n",
    "print(b)\n",
    "c = b == a[0]\n",
    "print(a)"
   ]
  },
  {
   "cell_type": "code",
   "execution_count": 31,
   "id": "85e38281-b382-4aed-b2a1-982769cf69ce",
   "metadata": {},
   "outputs": [
    {
     "name": "stdout",
     "output_type": "stream",
     "text": [
      "[1, 2, 3, 4, 5, 6, 7, 8, 9, 10, 4]\n"
     ]
    }
   ],
   "source": [
    "a = [1,2,3,4,5,6,7,8,9,10]\n",
    "a.append(4)\n",
    "print(a)"
   ]
  },
  {
   "cell_type": "code",
   "execution_count": null,
   "id": "3da7ac56-2c7b-4129-afb0-0db26c294b2b",
   "metadata": {
    "scrolled": true
   },
   "outputs": [],
   "source": [
    "a = int,float(input(\"First Subject : \"))\n",
    "b = int(input(\"Second Subject : \"))\n",
    "c = int(input(\"Third Subject : \"))\n",
    "d = int(input(\"Fouth Subject : \"))\n",
    "e = int(input(\"Fifth Subject : \"))\n",
    "f = [a,b,c,d,e]\n",
    "g = ((a+b+c+d+e)/500) * 100\n",
    "if ( f[0] < 35):\n",
    "    print (\"Fail\")\n",
    "elif (f[1] < 35):\n",
    "    print(\"Fail\")\n",
    "elif (f[2] < 35):\n",
    "    print(\"Fail\")\n",
    "elif (f[3] < 35):\n",
    "    print(\"Fail\")\n",
    "elif (f[4] < 35):\n",
    "    print(\"Fail\")\n",
    "else:\n",
    "    (\"Pass\")\n",
    "print(\"The Percentage You achived from the above Marks :\", g ,\"%\")"
   ]
  },
  {
   "cell_type": "code",
   "execution_count": 30,
   "id": "d109c9e5-7372-46a0-9061-8d2b0cb33dca",
   "metadata": {},
   "outputs": [
    {
     "name": "stdout",
     "output_type": "stream",
     "text": [
      "[1, 2]\n"
     ]
    }
   ],
   "source": [
    "list = [1,2,3]\n",
    "list.pop(2)\n",
    "print(list)"
   ]
  }
 ],
 "metadata": {
  "kernelspec": {
   "display_name": "Python 3 (ipykernel)",
   "language": "python",
   "name": "python3"
  },
  "language_info": {
   "codemirror_mode": {
    "name": "ipython",
    "version": 3
   },
   "file_extension": ".py",
   "mimetype": "text/x-python",
   "name": "python",
   "nbconvert_exporter": "python",
   "pygments_lexer": "ipython3",
   "version": "3.12.3"
  }
 },
 "nbformat": 4,
 "nbformat_minor": 5
}
