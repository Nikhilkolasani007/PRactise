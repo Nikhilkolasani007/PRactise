{
 "cells": [
  {
   "cell_type": "code",
   "execution_count": 10,
   "id": "7cb2a159-c27b-452f-bb31-48da06e40b0d",
   "metadata": {
    "scrolled": true
   },
   "outputs": [
    {
     "name": "stdout",
     "output_type": "stream",
     "text": [
      "NIKHIL KOLASANI\n"
     ]
    }
   ],
   "source": [
    "dtname = {\n",
    "    \"Name\" : \"NIKHIL KOLASANI\",\n",
    "    \"SUB\" : [10,25,35]\n",
    "}\n",
    "print(dtname[\"Name\"])"
   ]
  },
  {
   "cell_type": "code",
   "execution_count": 16,
   "id": "60fe36c2-0583-47c5-a46b-4deb2e4115a5",
   "metadata": {},
   "outputs": [
    {
     "name": "stdout",
     "output_type": "stream",
     "text": [
      "100\n"
     ]
    }
   ],
   "source": [
    "info_Stu = {\n",
    "    \"Name\" : \"NIKHIL\",\n",
    "    \"Sub\" : {\n",
    "        \"ENG\" : 100,\n",
    "        \"TEL\" : 100\n",
    "    }\n",
    "}\n",
    "print(info_Stu[\"Sub\"][\"ENG\"])"
   ]
  },
  {
   "cell_type": "code",
   "execution_count": 20,
   "id": "cb75e66b-8b25-4940-a856-cb173356c0c7",
   "metadata": {
    "scrolled": true
   },
   "outputs": [
    {
     "name": "stdin",
     "output_type": "stream",
     "text": [
      "Enter Your Name :  NIKHIL\n",
      "Enter your Age :  18\n",
      "Enter your English :  25\n",
      "Enter your Telugu :  34\n",
      "Enter your Hindi :  564\n"
     ]
    },
    {
     "name": "stdout",
     "output_type": "stream",
     "text": [
      "{'Nam': 'NIKHIL', 'age': 18, 'Subject': {'English': 25, 'Telugu': 34, 'Hindi': 564}}\n"
     ]
    }
   ],
   "source": [
    "name = str(input(\"Enter Your Name : \"))\n",
    "Age = int(input(\"Enter your Age : \"))\n",
    "eng = int(input(\"Enter your English : \"))\n",
    "tel = int(input(\"Enter your Telugu : \"))\n",
    "hin = int(input(\"Enter your Hindi : \"))\n",
    "info = {\n",
    "    \"Nam\" : name,\n",
    "    \"age\" : Age,\n",
    "    \"Subject\" : {\n",
    "        \"English\" : eng,\n",
    "        \"Telugu\" : tel,\n",
    "        \"Hindi\" : hin\n",
    "    }\n",
    "}\n",
    "print(info)"
   ]
  }
 ],
 "metadata": {
  "kernelspec": {
   "display_name": "Python 3 (ipykernel)",
   "language": "python",
   "name": "python3"
  },
  "language_info": {
   "codemirror_mode": {
    "name": "ipython",
    "version": 3
   },
   "file_extension": ".py",
   "mimetype": "text/x-python",
   "name": "python",
   "nbconvert_exporter": "python",
   "pygments_lexer": "ipython3",
   "version": "3.12.3"
  }
 },
 "nbformat": 4,
 "nbformat_minor": 5
}
